{
  "cells": [
    {
      "cell_type": "markdown",
      "metadata": {
        "id": "VIjOdQAl8fWM"
      },
      "source": [
        "# Join Statements"
      ]
    },
    {
      "cell_type": "markdown",
      "metadata": {
        "id": "62S9puIf8fWR"
      },
      "source": [
        "## Introduction\n",
        "\n",
        "In this section, you will learn about several types of `JOIN` statements.  Joins are the primary mechanism for combining data from multiple tables. In order to do this, you define the common attribute(s) between tables in order for them to be combined.\n",
        "\n",
        "## Objectives  \n",
        "\n",
        "You will be able to:  \n",
        "\n",
        "* Write SQL queries that make use of various types of joins\n",
        "* Compare and contrast the various types of joins\n",
        "* Discuss how primary and foreign keys are used in SQL\n",
        "* Decide and perform whichever type of join is best for retrieving desired data\n",
        "\n",
        "\n",
        "## CRM ERD\n",
        "\n",
        "In almost all industry cases, rather than just working with a single table you will generally need data from multiple tables. Doing this requires the use of **joins** using shared columns from the two tables. For example, here's a diagram of a mock customer relationship management (CRM) database.\n",
        "<img src='https://curriculum-content.s3.amazonaws.com/data-science/images/Database-Schema.png' width=550>"
      ]
    },
    {
      "cell_type": "markdown",
      "metadata": {
        "id": "naCX8Rk58fWT"
      },
      "source": [
        "## Connecting to the Database\n",
        "\n",
        "As usual, you'll start by connecting to the database.\n",
        "\n",
        "> In the cell below, type the code to import `sqlite` and `pandas` with the standard alias. Then in the next cell create a connection to the database `data.sqlite` and asign it to a variable:\n",
        "\n",
        "<details>\n",
        "    <summary style=\"cursor: pointer; display: inline\">\n",
        "        <b><u>CLICK to Reveal Code</u></b>\n",
        "    </summary>\n",
        "    <pre><code language=\"python\">import sqlite3\n",
        "import pandas as pd\n",
        "\n",
        "conn = sqlite3.connect('data.sqlite')\n",
        "    </code></pre>\n",
        "</details>"
      ]
    },
    {
      "cell_type": "code",
      "execution_count": 10,
      "metadata": {
        "id": "AGLltXvE8fWU"
      },
      "outputs": [],
      "source": [
        "import sqlite3\n",
        "import pandas as pd\n",
        "conn = sqlite3.connect('data.sqlit') # connect to our database "
      ]
    },
    {
      "cell_type": "code",
      "execution_count": null,
      "metadata": {
        "id": "wKCxwVtpIv8a"
      },
      "outputs": [],
      "source": [
        "# # database name is moringa.data\n",
        "# db_connector = sqlite3.connect('moringa.data')\n",
        "\n",
        "# pd.read_sql(\"\"\"\n",
        "# SELECT *\n",
        "# FROM sqlite_master\n",
        "# WHERE type = 'table';\"\"\", db_connector)"
      ]
    },
    {
      "cell_type": "code",
      "execution_count": 13,
      "metadata": {
        "id": "Yt8d0jhUi0Oa"
      },
      "outputs": [
        {
          "name": "stderr",
          "output_type": "stream",
          "text": [
            "'ls' is not recognized as an internal or external command,\n",
            "operable program or batch file.\n"
          ]
        }
      ],
      "source": [
        "# Loading the libraries\n",
        "import sqlite3\n",
        "import pandas as pd\n",
        "\n",
        "conn = sqlite3.connect('data.sqlite')\n",
        "\n",
        "!ls"
      ]
    },
    {
      "cell_type": "code",
      "execution_count": 14,
      "metadata": {
        "colab": {
          "base_uri": "https://localhost:8080/",
          "height": 300
        },
        "id": "ckVF-ukPivwL",
        "outputId": "ec91ac09-dc4a-4091-c38d-880429f4d01f"
      },
      "outputs": [
        {
          "data": {
            "text/html": [
              "<div>\n",
              "<style scoped>\n",
              "    .dataframe tbody tr th:only-of-type {\n",
              "        vertical-align: middle;\n",
              "    }\n",
              "\n",
              "    .dataframe tbody tr th {\n",
              "        vertical-align: top;\n",
              "    }\n",
              "\n",
              "    .dataframe thead th {\n",
              "        text-align: right;\n",
              "    }\n",
              "</style>\n",
              "<table border=\"1\" class=\"dataframe\">\n",
              "  <thead>\n",
              "    <tr style=\"text-align: right;\">\n",
              "      <th></th>\n",
              "      <th>type</th>\n",
              "      <th>name</th>\n",
              "      <th>tbl_name</th>\n",
              "      <th>rootpage</th>\n",
              "      <th>sql</th>\n",
              "    </tr>\n",
              "  </thead>\n",
              "  <tbody>\n",
              "    <tr>\n",
              "      <th>0</th>\n",
              "      <td>table</td>\n",
              "      <td>orderdetails</td>\n",
              "      <td>orderdetails</td>\n",
              "      <td>2</td>\n",
              "      <td>CREATE TABLE `orderdetails` (`orderNumber`, `p...</td>\n",
              "    </tr>\n",
              "    <tr>\n",
              "      <th>1</th>\n",
              "      <td>table</td>\n",
              "      <td>payments</td>\n",
              "      <td>payments</td>\n",
              "      <td>28</td>\n",
              "      <td>CREATE TABLE `payments` (`customerNumber`, `ch...</td>\n",
              "    </tr>\n",
              "    <tr>\n",
              "      <th>2</th>\n",
              "      <td>table</td>\n",
              "      <td>offices</td>\n",
              "      <td>offices</td>\n",
              "      <td>32</td>\n",
              "      <td>CREATE TABLE `offices` (`officeCode`, `city`, ...</td>\n",
              "    </tr>\n",
              "    <tr>\n",
              "      <th>3</th>\n",
              "      <td>table</td>\n",
              "      <td>customers</td>\n",
              "      <td>customers</td>\n",
              "      <td>33</td>\n",
              "      <td>CREATE TABLE `customers` (`customerNumber`, `c...</td>\n",
              "    </tr>\n",
              "    <tr>\n",
              "      <th>4</th>\n",
              "      <td>table</td>\n",
              "      <td>orders</td>\n",
              "      <td>orders</td>\n",
              "      <td>38</td>\n",
              "      <td>CREATE TABLE `orders` (`orderNumber`, `orderDa...</td>\n",
              "    </tr>\n",
              "    <tr>\n",
              "      <th>5</th>\n",
              "      <td>table</td>\n",
              "      <td>productlines</td>\n",
              "      <td>productlines</td>\n",
              "      <td>46</td>\n",
              "      <td>CREATE TABLE `productlines` (`productLine`, `t...</td>\n",
              "    </tr>\n",
              "    <tr>\n",
              "      <th>6</th>\n",
              "      <td>table</td>\n",
              "      <td>products</td>\n",
              "      <td>products</td>\n",
              "      <td>47</td>\n",
              "      <td>CREATE TABLE `products` (`productCode`, `produ...</td>\n",
              "    </tr>\n",
              "    <tr>\n",
              "      <th>7</th>\n",
              "      <td>table</td>\n",
              "      <td>employees</td>\n",
              "      <td>employees</td>\n",
              "      <td>56</td>\n",
              "      <td>CREATE TABLE `employees` (`employeeNumber`, `l...</td>\n",
              "    </tr>\n",
              "  </tbody>\n",
              "</table>\n",
              "</div>"
            ],
            "text/plain": [
              "    type          name      tbl_name  rootpage  \\\n",
              "0  table  orderdetails  orderdetails         2   \n",
              "1  table      payments      payments        28   \n",
              "2  table       offices       offices        32   \n",
              "3  table     customers     customers        33   \n",
              "4  table        orders        orders        38   \n",
              "5  table  productlines  productlines        46   \n",
              "6  table      products      products        47   \n",
              "7  table     employees     employees        56   \n",
              "\n",
              "                                                 sql  \n",
              "0  CREATE TABLE `orderdetails` (`orderNumber`, `p...  \n",
              "1  CREATE TABLE `payments` (`customerNumber`, `ch...  \n",
              "2  CREATE TABLE `offices` (`officeCode`, `city`, ...  \n",
              "3  CREATE TABLE `customers` (`customerNumber`, `c...  \n",
              "4  CREATE TABLE `orders` (`orderNumber`, `orderDa...  \n",
              "5  CREATE TABLE `productlines` (`productLine`, `t...  \n",
              "6  CREATE TABLE `products` (`productCode`, `produ...  \n",
              "7  CREATE TABLE `employees` (`employeeNumber`, `l...  "
            ]
          },
          "execution_count": 14,
          "metadata": {},
          "output_type": "execute_result"
        }
      ],
      "source": [
        "# Write sql query that extracts the details of all the tables in the database\n",
        "database_details = pd.read_sql(\"\"\"\n",
        "SELECT *\n",
        "FROM sqlite_master\n",
        "WHERE type = 'table';\"\"\", conn)\n",
        "\n",
        "database_details"
      ]
    },
    {
      "cell_type": "code",
      "execution_count": 15,
      "metadata": {
        "colab": {
          "base_uri": "https://localhost:8080/",
          "height": 300
        },
        "id": "41IcxRHw8fWY",
        "outputId": "b7085243-b5ec-4afa-ad19-8b84663a2f26"
      },
      "outputs": [
        {
          "data": {
            "text/html": [
              "<div>\n",
              "<style scoped>\n",
              "    .dataframe tbody tr th:only-of-type {\n",
              "        vertical-align: middle;\n",
              "    }\n",
              "\n",
              "    .dataframe tbody tr th {\n",
              "        vertical-align: top;\n",
              "    }\n",
              "\n",
              "    .dataframe thead th {\n",
              "        text-align: right;\n",
              "    }\n",
              "</style>\n",
              "<table border=\"1\" class=\"dataframe\">\n",
              "  <thead>\n",
              "    <tr style=\"text-align: right;\">\n",
              "      <th></th>\n",
              "      <th>name</th>\n",
              "    </tr>\n",
              "  </thead>\n",
              "  <tbody>\n",
              "    <tr>\n",
              "      <th>0</th>\n",
              "      <td>orderdetails</td>\n",
              "    </tr>\n",
              "    <tr>\n",
              "      <th>1</th>\n",
              "      <td>payments</td>\n",
              "    </tr>\n",
              "    <tr>\n",
              "      <th>2</th>\n",
              "      <td>offices</td>\n",
              "    </tr>\n",
              "    <tr>\n",
              "      <th>3</th>\n",
              "      <td>customers</td>\n",
              "    </tr>\n",
              "    <tr>\n",
              "      <th>4</th>\n",
              "      <td>orders</td>\n",
              "    </tr>\n",
              "    <tr>\n",
              "      <th>5</th>\n",
              "      <td>productlines</td>\n",
              "    </tr>\n",
              "    <tr>\n",
              "      <th>6</th>\n",
              "      <td>products</td>\n",
              "    </tr>\n",
              "    <tr>\n",
              "      <th>7</th>\n",
              "      <td>employees</td>\n",
              "    </tr>\n",
              "  </tbody>\n",
              "</table>\n",
              "</div>"
            ],
            "text/plain": [
              "           name\n",
              "0  orderdetails\n",
              "1      payments\n",
              "2       offices\n",
              "3     customers\n",
              "4        orders\n",
              "5  productlines\n",
              "6      products\n",
              "7     employees"
            ]
          },
          "execution_count": 15,
          "metadata": {},
          "output_type": "execute_result"
        }
      ],
      "source": [
        "# Write sql query that reads the names of all the tables in the database\n",
        "table_names = pd.read_sql(\"\"\"\n",
        "SELECT name\n",
        "FROM sqlite_master\n",
        "WHERE type = 'table';\"\"\", conn)\n",
        "\n",
        "table_names"
      ]
    },
    {
      "cell_type": "code",
      "execution_count": 21,
      "metadata": {
        "colab": {
          "base_uri": "https://localhost:8080/"
        },
        "id": "Zzr7m_-2LvO4",
        "outputId": "589c6e6b-750e-40e5-83a9-12832c347fb0"
      },
      "outputs": [
        {
          "name": "stdout",
          "output_type": "stream",
          "text": [
            "The names of columns in the oders table are:\n",
            " Index(['orderNumber', 'orderDate', 'requiredDate', 'shippedDate', 'status',\n",
            "       'comments', 'customerNumber'],\n",
            "      dtype='object')\n"
          ]
        }
      ],
      "source": [
        "# Select all the details in the orders table\n",
        "order_table = pd.read_sql(\"\"\"SELECT *\n",
        "            FROM orders;\"\"\", conn)\n",
        "\n",
        "print(f\"The names of columns in the oders table are:\\n\",order_table.columns)"
      ]
    },
    {
      "cell_type": "code",
      "execution_count": 19,
      "metadata": {
        "colab": {
          "base_uri": "https://localhost:8080/"
        },
        "id": "K14mIlBqPNdi",
        "outputId": "56582d96-1a2e-4af7-ef9a-cfb8f02570a0"
      },
      "outputs": [
        {
          "name": "stdout",
          "output_type": "stream",
          "text": [
            "The number of rows and columns in the orders table are 326 and 7 respectively\n"
          ]
        }
      ],
      "source": [
        "# check the size of the dataframe\n",
        "# Use .format() method to print (The number of rows are)\n",
        "print(\"The number of rows and columns in the orders table are {} and {} \"\n",
        "\"respectively\".format(order_table.shape[0], order_table.shape[1]))"
      ]
    },
    {
      "cell_type": "code",
      "execution_count": 35,
      "metadata": {
        "colab": {
          "base_uri": "https://localhost:8080/"
        },
        "id": "woRtegwPVZSH",
        "outputId": "8d0cabe0-42aa-4e79-b427-9c22119e872d"
      },
      "outputs": [
        {
          "name": "stdout",
          "output_type": "stream",
          "text": [
            "The number of rows and columns in the orders table are 326 and 7 respectively\n"
          ]
        }
      ],
      "source": [
        "# Print the number of rows and columns in the orders table\n",
        "rows = order_table.shape[0]\n",
        "columns = order_table.shape[1]\n",
        "print(f\"The number of rows and columns in the orders table are {rows}\",\n",
        "      f\"and {columns} respectively\")"
      ]
    },
    {
      "cell_type": "code",
      "execution_count": 20,
      "metadata": {
        "colab": {
          "base_uri": "https://localhost:8080/",
          "height": 536
        },
        "id": "f-OxsmpdO4LV",
        "outputId": "c3d001f3-f97d-4d05-c462-ee5d4d805ae6"
      },
      "outputs": [
        {
          "data": {
            "text/html": [
              "<div>\n",
              "<style scoped>\n",
              "    .dataframe tbody tr th:only-of-type {\n",
              "        vertical-align: middle;\n",
              "    }\n",
              "\n",
              "    .dataframe tbody tr th {\n",
              "        vertical-align: top;\n",
              "    }\n",
              "\n",
              "    .dataframe thead th {\n",
              "        text-align: right;\n",
              "    }\n",
              "</style>\n",
              "<table border=\"1\" class=\"dataframe\">\n",
              "  <thead>\n",
              "    <tr style=\"text-align: right;\">\n",
              "      <th></th>\n",
              "      <th>orderNumber</th>\n",
              "      <th>orderDate</th>\n",
              "      <th>requiredDate</th>\n",
              "      <th>shippedDate</th>\n",
              "      <th>status</th>\n",
              "      <th>comments</th>\n",
              "      <th>customerNumber</th>\n",
              "    </tr>\n",
              "  </thead>\n",
              "  <tbody>\n",
              "    <tr>\n",
              "      <th>316</th>\n",
              "      <td>10416</td>\n",
              "      <td>2005-05-10</td>\n",
              "      <td>2005-05-16</td>\n",
              "      <td>2005-05-14</td>\n",
              "      <td>Shipped</td>\n",
              "      <td></td>\n",
              "      <td>386</td>\n",
              "    </tr>\n",
              "    <tr>\n",
              "      <th>317</th>\n",
              "      <td>10417</td>\n",
              "      <td>2005-05-13</td>\n",
              "      <td>2005-05-19</td>\n",
              "      <td>2005-05-19</td>\n",
              "      <td>Disputed</td>\n",
              "      <td>Customer doesn't like the colors and precision...</td>\n",
              "      <td>141</td>\n",
              "    </tr>\n",
              "    <tr>\n",
              "      <th>318</th>\n",
              "      <td>10418</td>\n",
              "      <td>2005-05-16</td>\n",
              "      <td>2005-05-24</td>\n",
              "      <td>2005-05-20</td>\n",
              "      <td>Shipped</td>\n",
              "      <td></td>\n",
              "      <td>412</td>\n",
              "    </tr>\n",
              "    <tr>\n",
              "      <th>319</th>\n",
              "      <td>10419</td>\n",
              "      <td>2005-05-17</td>\n",
              "      <td>2005-05-28</td>\n",
              "      <td>2005-05-19</td>\n",
              "      <td>Shipped</td>\n",
              "      <td></td>\n",
              "      <td>382</td>\n",
              "    </tr>\n",
              "    <tr>\n",
              "      <th>320</th>\n",
              "      <td>10420</td>\n",
              "      <td>2005-05-29</td>\n",
              "      <td>2005-06-07</td>\n",
              "      <td></td>\n",
              "      <td>In Process</td>\n",
              "      <td></td>\n",
              "      <td>282</td>\n",
              "    </tr>\n",
              "    <tr>\n",
              "      <th>321</th>\n",
              "      <td>10421</td>\n",
              "      <td>2005-05-29</td>\n",
              "      <td>2005-06-06</td>\n",
              "      <td></td>\n",
              "      <td>In Process</td>\n",
              "      <td>Custom shipping instructions were sent to ware...</td>\n",
              "      <td>124</td>\n",
              "    </tr>\n",
              "    <tr>\n",
              "      <th>322</th>\n",
              "      <td>10422</td>\n",
              "      <td>2005-05-30</td>\n",
              "      <td>2005-06-11</td>\n",
              "      <td></td>\n",
              "      <td>In Process</td>\n",
              "      <td></td>\n",
              "      <td>157</td>\n",
              "    </tr>\n",
              "    <tr>\n",
              "      <th>323</th>\n",
              "      <td>10423</td>\n",
              "      <td>2005-05-30</td>\n",
              "      <td>2005-06-05</td>\n",
              "      <td></td>\n",
              "      <td>In Process</td>\n",
              "      <td></td>\n",
              "      <td>314</td>\n",
              "    </tr>\n",
              "    <tr>\n",
              "      <th>324</th>\n",
              "      <td>10424</td>\n",
              "      <td>2005-05-31</td>\n",
              "      <td>2005-06-08</td>\n",
              "      <td></td>\n",
              "      <td>In Process</td>\n",
              "      <td></td>\n",
              "      <td>141</td>\n",
              "    </tr>\n",
              "    <tr>\n",
              "      <th>325</th>\n",
              "      <td>10425</td>\n",
              "      <td>2005-05-31</td>\n",
              "      <td>2005-06-07</td>\n",
              "      <td></td>\n",
              "      <td>In Process</td>\n",
              "      <td></td>\n",
              "      <td>119</td>\n",
              "    </tr>\n",
              "  </tbody>\n",
              "</table>\n",
              "</div>"
            ],
            "text/plain": [
              "    orderNumber   orderDate requiredDate shippedDate      status  \\\n",
              "316       10416  2005-05-10   2005-05-16  2005-05-14     Shipped   \n",
              "317       10417  2005-05-13   2005-05-19  2005-05-19    Disputed   \n",
              "318       10418  2005-05-16   2005-05-24  2005-05-20     Shipped   \n",
              "319       10419  2005-05-17   2005-05-28  2005-05-19     Shipped   \n",
              "320       10420  2005-05-29   2005-06-07              In Process   \n",
              "321       10421  2005-05-29   2005-06-06              In Process   \n",
              "322       10422  2005-05-30   2005-06-11              In Process   \n",
              "323       10423  2005-05-30   2005-06-05              In Process   \n",
              "324       10424  2005-05-31   2005-06-08              In Process   \n",
              "325       10425  2005-05-31   2005-06-07              In Process   \n",
              "\n",
              "                                              comments customerNumber  \n",
              "316                                                               386  \n",
              "317  Customer doesn't like the colors and precision...            141  \n",
              "318                                                               412  \n",
              "319                                                               382  \n",
              "320                                                               282  \n",
              "321  Custom shipping instructions were sent to ware...            124  \n",
              "322                                                               157  \n",
              "323                                                               314  \n",
              "324                                                               141  \n",
              "325                                                               119  "
            ]
          },
          "execution_count": 20,
          "metadata": {},
          "output_type": "execute_result"
        }
      ],
      "source": [
        "# Preview the last 10 rows\n",
        "order_table.tail(10)"
      ]
    },
    {
      "cell_type": "markdown",
      "metadata": {
        "id": "VDwAh5_38fWZ"
      },
      "source": [
        "## Displaying Product Details Along with Order Details\n",
        "\n",
        "Let's say you need to generate a report that includes details about products from orders. To do that, we would need to take data from multiple tables in a single statement. To do this we will use `JOIN`.\n",
        "\n",
        "> In the cell below, type the query to select all records from `orderdetails` and `products` and join them using thier common key `productCode` and display the first 10.\n",
        "\n",
        "<details>\n",
        "    <summary style=\"cursor: pointer; display: inline\">\n",
        "        <b><u>CLICK to Reveal Code</u></b>\n",
        "    </summary>\n",
        "    <pre><code language=\"python\">q = \"\"\"\n",
        "SELECT *\n",
        "  FROM orderdetails\n",
        "       JOIN products\n",
        "       ON orderdetails.productCode = products.productCode\n",
        "       LIMIT 10;\n",
        "\"\"\"\n",
        "pd.read_sql(q, conn)\n",
        "    </code></pre>\n",
        "</details>"
      ]
    },
    {
      "cell_type": "code",
      "execution_count": 26,
      "metadata": {
        "id": "eeXmFYDG8fWa"
      },
      "outputs": [
        {
          "data": {
            "text/html": [
              "<div>\n",
              "<style scoped>\n",
              "    .dataframe tbody tr th:only-of-type {\n",
              "        vertical-align: middle;\n",
              "    }\n",
              "\n",
              "    .dataframe tbody tr th {\n",
              "        vertical-align: top;\n",
              "    }\n",
              "\n",
              "    .dataframe thead th {\n",
              "        text-align: right;\n",
              "    }\n",
              "</style>\n",
              "<table border=\"1\" class=\"dataframe\">\n",
              "  <thead>\n",
              "    <tr style=\"text-align: right;\">\n",
              "      <th></th>\n",
              "      <th>orderNumber</th>\n",
              "      <th>productCode</th>\n",
              "      <th>quantityOrdered</th>\n",
              "      <th>priceEach</th>\n",
              "      <th>orderLineNumber</th>\n",
              "      <th>productCode</th>\n",
              "      <th>productName</th>\n",
              "      <th>productLine</th>\n",
              "      <th>productScale</th>\n",
              "      <th>productVendor</th>\n",
              "      <th>productDescription</th>\n",
              "      <th>quantityInStock</th>\n",
              "      <th>buyPrice</th>\n",
              "      <th>MSRP</th>\n",
              "    </tr>\n",
              "  </thead>\n",
              "  <tbody>\n",
              "    <tr>\n",
              "      <th>0</th>\n",
              "      <td>10100</td>\n",
              "      <td>S18_1749</td>\n",
              "      <td>30</td>\n",
              "      <td>136.00</td>\n",
              "      <td>3</td>\n",
              "      <td>S18_1749</td>\n",
              "      <td>1917 Grand Touring Sedan</td>\n",
              "      <td>Vintage Cars</td>\n",
              "      <td>1:18</td>\n",
              "      <td>Welly Diecast Productions</td>\n",
              "      <td>This 1:18 scale replica of the 1917 Grand Tour...</td>\n",
              "      <td>2724</td>\n",
              "      <td>86.70</td>\n",
              "      <td>170.00</td>\n",
              "    </tr>\n",
              "    <tr>\n",
              "      <th>1</th>\n",
              "      <td>10100</td>\n",
              "      <td>S18_2248</td>\n",
              "      <td>50</td>\n",
              "      <td>55.09</td>\n",
              "      <td>2</td>\n",
              "      <td>S18_2248</td>\n",
              "      <td>1911 Ford Town Car</td>\n",
              "      <td>Vintage Cars</td>\n",
              "      <td>1:18</td>\n",
              "      <td>Motor City Art Classics</td>\n",
              "      <td>Features opening hood, opening doors, opening ...</td>\n",
              "      <td>540</td>\n",
              "      <td>33.30</td>\n",
              "      <td>60.54</td>\n",
              "    </tr>\n",
              "    <tr>\n",
              "      <th>2</th>\n",
              "      <td>10100</td>\n",
              "      <td>S18_4409</td>\n",
              "      <td>22</td>\n",
              "      <td>75.46</td>\n",
              "      <td>4</td>\n",
              "      <td>S18_4409</td>\n",
              "      <td>1932 Alfa Romeo 8C2300 Spider Sport</td>\n",
              "      <td>Vintage Cars</td>\n",
              "      <td>1:18</td>\n",
              "      <td>Exoto Designs</td>\n",
              "      <td>This 1:18 scale precision die cast replica fea...</td>\n",
              "      <td>6553</td>\n",
              "      <td>43.26</td>\n",
              "      <td>92.03</td>\n",
              "    </tr>\n",
              "    <tr>\n",
              "      <th>3</th>\n",
              "      <td>10100</td>\n",
              "      <td>S24_3969</td>\n",
              "      <td>49</td>\n",
              "      <td>35.29</td>\n",
              "      <td>1</td>\n",
              "      <td>S24_3969</td>\n",
              "      <td>1936 Mercedes Benz 500k Roadster</td>\n",
              "      <td>Vintage Cars</td>\n",
              "      <td>1:24</td>\n",
              "      <td>Red Start Diecast</td>\n",
              "      <td>This model features grille-mounted chrome horn...</td>\n",
              "      <td>2081</td>\n",
              "      <td>21.75</td>\n",
              "      <td>41.03</td>\n",
              "    </tr>\n",
              "    <tr>\n",
              "      <th>4</th>\n",
              "      <td>10101</td>\n",
              "      <td>S18_2325</td>\n",
              "      <td>25</td>\n",
              "      <td>108.06</td>\n",
              "      <td>4</td>\n",
              "      <td>S18_2325</td>\n",
              "      <td>1932 Model A Ford J-Coupe</td>\n",
              "      <td>Vintage Cars</td>\n",
              "      <td>1:18</td>\n",
              "      <td>Autoart Studio Design</td>\n",
              "      <td>This model features grille-mounted chrome horn...</td>\n",
              "      <td>9354</td>\n",
              "      <td>58.48</td>\n",
              "      <td>127.13</td>\n",
              "    </tr>\n",
              "    <tr>\n",
              "      <th>5</th>\n",
              "      <td>10101</td>\n",
              "      <td>S18_2795</td>\n",
              "      <td>26</td>\n",
              "      <td>167.06</td>\n",
              "      <td>1</td>\n",
              "      <td>S18_2795</td>\n",
              "      <td>1928 Mercedes-Benz SSK</td>\n",
              "      <td>Vintage Cars</td>\n",
              "      <td>1:18</td>\n",
              "      <td>Gearbox Collectibles</td>\n",
              "      <td>This 1:18 replica features grille-mounted chro...</td>\n",
              "      <td>548</td>\n",
              "      <td>72.56</td>\n",
              "      <td>168.75</td>\n",
              "    </tr>\n",
              "    <tr>\n",
              "      <th>6</th>\n",
              "      <td>10101</td>\n",
              "      <td>S24_1937</td>\n",
              "      <td>45</td>\n",
              "      <td>32.53</td>\n",
              "      <td>3</td>\n",
              "      <td>S24_1937</td>\n",
              "      <td>1939 Chevrolet Deluxe Coupe</td>\n",
              "      <td>Vintage Cars</td>\n",
              "      <td>1:24</td>\n",
              "      <td>Motor City Art Classics</td>\n",
              "      <td>This 1:24 scale die-cast replica of the 1939 C...</td>\n",
              "      <td>7332</td>\n",
              "      <td>22.57</td>\n",
              "      <td>33.19</td>\n",
              "    </tr>\n",
              "    <tr>\n",
              "      <th>7</th>\n",
              "      <td>10101</td>\n",
              "      <td>S24_2022</td>\n",
              "      <td>46</td>\n",
              "      <td>44.35</td>\n",
              "      <td>2</td>\n",
              "      <td>S24_2022</td>\n",
              "      <td>1938 Cadillac V-16 Presidential Limousine</td>\n",
              "      <td>Vintage Cars</td>\n",
              "      <td>1:24</td>\n",
              "      <td>Classic Metal Creations</td>\n",
              "      <td>This 1:24 scale precision die cast replica of ...</td>\n",
              "      <td>2847</td>\n",
              "      <td>20.61</td>\n",
              "      <td>44.80</td>\n",
              "    </tr>\n",
              "    <tr>\n",
              "      <th>8</th>\n",
              "      <td>10102</td>\n",
              "      <td>S18_1342</td>\n",
              "      <td>39</td>\n",
              "      <td>95.55</td>\n",
              "      <td>2</td>\n",
              "      <td>S18_1342</td>\n",
              "      <td>1937 Lincoln Berline</td>\n",
              "      <td>Vintage Cars</td>\n",
              "      <td>1:18</td>\n",
              "      <td>Motor City Art Classics</td>\n",
              "      <td>Features opening engine cover, doors, trunk, a...</td>\n",
              "      <td>8693</td>\n",
              "      <td>60.62</td>\n",
              "      <td>102.74</td>\n",
              "    </tr>\n",
              "    <tr>\n",
              "      <th>9</th>\n",
              "      <td>10102</td>\n",
              "      <td>S18_1367</td>\n",
              "      <td>41</td>\n",
              "      <td>43.13</td>\n",
              "      <td>1</td>\n",
              "      <td>S18_1367</td>\n",
              "      <td>1936 Mercedes-Benz 500K Special Roadster</td>\n",
              "      <td>Vintage Cars</td>\n",
              "      <td>1:18</td>\n",
              "      <td>Studio M Art Models</td>\n",
              "      <td>This 1:18 scale replica is constructed of heav...</td>\n",
              "      <td>8635</td>\n",
              "      <td>24.26</td>\n",
              "      <td>53.91</td>\n",
              "    </tr>\n",
              "  </tbody>\n",
              "</table>\n",
              "</div>"
            ],
            "text/plain": [
              "  orderNumber productCode quantityOrdered priceEach orderLineNumber  \\\n",
              "0       10100    S18_1749              30    136.00               3   \n",
              "1       10100    S18_2248              50     55.09               2   \n",
              "2       10100    S18_4409              22     75.46               4   \n",
              "3       10100    S24_3969              49     35.29               1   \n",
              "4       10101    S18_2325              25    108.06               4   \n",
              "5       10101    S18_2795              26    167.06               1   \n",
              "6       10101    S24_1937              45     32.53               3   \n",
              "7       10101    S24_2022              46     44.35               2   \n",
              "8       10102    S18_1342              39     95.55               2   \n",
              "9       10102    S18_1367              41     43.13               1   \n",
              "\n",
              "  productCode                                productName   productLine  \\\n",
              "0    S18_1749                   1917 Grand Touring Sedan  Vintage Cars   \n",
              "1    S18_2248                         1911 Ford Town Car  Vintage Cars   \n",
              "2    S18_4409        1932 Alfa Romeo 8C2300 Spider Sport  Vintage Cars   \n",
              "3    S24_3969           1936 Mercedes Benz 500k Roadster  Vintage Cars   \n",
              "4    S18_2325                  1932 Model A Ford J-Coupe  Vintage Cars   \n",
              "5    S18_2795                     1928 Mercedes-Benz SSK  Vintage Cars   \n",
              "6    S24_1937                1939 Chevrolet Deluxe Coupe  Vintage Cars   \n",
              "7    S24_2022  1938 Cadillac V-16 Presidential Limousine  Vintage Cars   \n",
              "8    S18_1342                       1937 Lincoln Berline  Vintage Cars   \n",
              "9    S18_1367   1936 Mercedes-Benz 500K Special Roadster  Vintage Cars   \n",
              "\n",
              "  productScale              productVendor  \\\n",
              "0         1:18  Welly Diecast Productions   \n",
              "1         1:18    Motor City Art Classics   \n",
              "2         1:18              Exoto Designs   \n",
              "3         1:24          Red Start Diecast   \n",
              "4         1:18      Autoart Studio Design   \n",
              "5         1:18       Gearbox Collectibles   \n",
              "6         1:24    Motor City Art Classics   \n",
              "7         1:24    Classic Metal Creations   \n",
              "8         1:18    Motor City Art Classics   \n",
              "9         1:18        Studio M Art Models   \n",
              "\n",
              "                                  productDescription quantityInStock buyPrice  \\\n",
              "0  This 1:18 scale replica of the 1917 Grand Tour...            2724    86.70   \n",
              "1  Features opening hood, opening doors, opening ...             540    33.30   \n",
              "2  This 1:18 scale precision die cast replica fea...            6553    43.26   \n",
              "3  This model features grille-mounted chrome horn...            2081    21.75   \n",
              "4  This model features grille-mounted chrome horn...            9354    58.48   \n",
              "5  This 1:18 replica features grille-mounted chro...             548    72.56   \n",
              "6  This 1:24 scale die-cast replica of the 1939 C...            7332    22.57   \n",
              "7  This 1:24 scale precision die cast replica of ...            2847    20.61   \n",
              "8  Features opening engine cover, doors, trunk, a...            8693    60.62   \n",
              "9  This 1:18 scale replica is constructed of heav...            8635    24.26   \n",
              "\n",
              "     MSRP  \n",
              "0  170.00  \n",
              "1   60.54  \n",
              "2   92.03  \n",
              "3   41.03  \n",
              "4  127.13  \n",
              "5  168.75  \n",
              "6   33.19  \n",
              "7   44.80  \n",
              "8  102.74  \n",
              "9   53.91  "
            ]
          },
          "execution_count": 26,
          "metadata": {},
          "output_type": "execute_result"
        }
      ],
      "source": [
        "# replace None with the query to join orderdetails and products on productCode\n",
        "query = (\"\"\"\n",
        "         SELECT*\n",
        "         FROM orderdetails\n",
        "         JOIN products\n",
        "         ON orderdetails.productCode = products.productCode\n",
        "         LIMIT 10;\n",
        "         \"\"\")\n",
        "df = pd.read_sql(query, conn)\n",
        "df"
      ]
    },
    {
      "cell_type": "code",
      "execution_count": 29,
      "metadata": {},
      "outputs": [
        {
          "name": "stdout",
          "output_type": "stream",
          "text": [
            " The number of rows and columns in the joint table of orderdetails and products are: 10 and 14 respectively\n"
          ]
        }
      ],
      "source": [
        "# check the size of df to confirm the expectation below \n",
        "df.shape\n",
        "print(\" The number of rows and columns in the joint table of orderdetails and products are: \" \n",
        "      \"{} and {} respectively\".format(df.shape[0], df.shape[1]))"
      ]
    },
    {
      "cell_type": "markdown",
      "metadata": {
        "id": "vxtr_6PQ8fWb"
      },
      "source": [
        "---\n",
        "#### Expected Output\n",
        "<pre><code>a DataFrame with 10 rows and 14 columns\n",
        "</code></pre>\n",
        "<details>\n",
        "    <summary style=\"cursor: pointer; display: inline\">\n",
        "        <b><u>Click to Expand Complete Output</u></b>\n",
        "    </summary>\n",
        "    <img src=\"https://curriculum-content.s3.amazonaws.com/data-science/images/join_1.png\">\n",
        "</details>\n",
        "\n",
        "---"
      ]
    },
    {
      "cell_type": "markdown",
      "metadata": {
        "id": "oR6PzPNS8fWc"
      },
      "source": [
        "## Compared to the Individual Tables:"
      ]
    },
    {
      "cell_type": "markdown",
      "metadata": {
        "id": "GbLZb1Yq8fWd"
      },
      "source": [
        "### `orderdetails` Table:\n",
        "\n",
        "> In the cell below, type the code to select all records from `orderdetails` and display the first `10`\n",
        "\n",
        "<details>\n",
        "    <summary style=\"cursor: pointer; display: inline\">\n",
        "        <b><u>CLICK to Reveal Code</u></b>\n",
        "    </summary>\n",
        "    <pre><code class=\"language-python\">query = \"\"\"\n",
        "SELECT *\n",
        "  FROM orderdetails LIMIT 10;\n",
        "\"\"\"\n",
        "pd.read_sql(query, conn)\n",
        "    </code></pre>\n",
        "</details>"
      ]
    },
    {
      "cell_type": "code",
      "execution_count": 37,
      "metadata": {
        "id": "bY3jhsC48fWd"
      },
      "outputs": [
        {
          "data": {
            "text/html": [
              "<div>\n",
              "<style scoped>\n",
              "    .dataframe tbody tr th:only-of-type {\n",
              "        vertical-align: middle;\n",
              "    }\n",
              "\n",
              "    .dataframe tbody tr th {\n",
              "        vertical-align: top;\n",
              "    }\n",
              "\n",
              "    .dataframe thead th {\n",
              "        text-align: right;\n",
              "    }\n",
              "</style>\n",
              "<table border=\"1\" class=\"dataframe\">\n",
              "  <thead>\n",
              "    <tr style=\"text-align: right;\">\n",
              "      <th></th>\n",
              "      <th>orderNumber</th>\n",
              "      <th>productCode</th>\n",
              "      <th>quantityOrdered</th>\n",
              "      <th>priceEach</th>\n",
              "      <th>orderLineNumber</th>\n",
              "    </tr>\n",
              "  </thead>\n",
              "  <tbody>\n",
              "    <tr>\n",
              "      <th>0</th>\n",
              "      <td>10100</td>\n",
              "      <td>S18_1749</td>\n",
              "      <td>30</td>\n",
              "      <td>136.00</td>\n",
              "      <td>3</td>\n",
              "    </tr>\n",
              "    <tr>\n",
              "      <th>1</th>\n",
              "      <td>10100</td>\n",
              "      <td>S18_2248</td>\n",
              "      <td>50</td>\n",
              "      <td>55.09</td>\n",
              "      <td>2</td>\n",
              "    </tr>\n",
              "    <tr>\n",
              "      <th>2</th>\n",
              "      <td>10100</td>\n",
              "      <td>S18_4409</td>\n",
              "      <td>22</td>\n",
              "      <td>75.46</td>\n",
              "      <td>4</td>\n",
              "    </tr>\n",
              "    <tr>\n",
              "      <th>3</th>\n",
              "      <td>10100</td>\n",
              "      <td>S24_3969</td>\n",
              "      <td>49</td>\n",
              "      <td>35.29</td>\n",
              "      <td>1</td>\n",
              "    </tr>\n",
              "    <tr>\n",
              "      <th>4</th>\n",
              "      <td>10101</td>\n",
              "      <td>S18_2325</td>\n",
              "      <td>25</td>\n",
              "      <td>108.06</td>\n",
              "      <td>4</td>\n",
              "    </tr>\n",
              "    <tr>\n",
              "      <th>5</th>\n",
              "      <td>10101</td>\n",
              "      <td>S18_2795</td>\n",
              "      <td>26</td>\n",
              "      <td>167.06</td>\n",
              "      <td>1</td>\n",
              "    </tr>\n",
              "    <tr>\n",
              "      <th>6</th>\n",
              "      <td>10101</td>\n",
              "      <td>S24_1937</td>\n",
              "      <td>45</td>\n",
              "      <td>32.53</td>\n",
              "      <td>3</td>\n",
              "    </tr>\n",
              "    <tr>\n",
              "      <th>7</th>\n",
              "      <td>10101</td>\n",
              "      <td>S24_2022</td>\n",
              "      <td>46</td>\n",
              "      <td>44.35</td>\n",
              "      <td>2</td>\n",
              "    </tr>\n",
              "    <tr>\n",
              "      <th>8</th>\n",
              "      <td>10102</td>\n",
              "      <td>S18_1342</td>\n",
              "      <td>39</td>\n",
              "      <td>95.55</td>\n",
              "      <td>2</td>\n",
              "    </tr>\n",
              "    <tr>\n",
              "      <th>9</th>\n",
              "      <td>10102</td>\n",
              "      <td>S18_1367</td>\n",
              "      <td>41</td>\n",
              "      <td>43.13</td>\n",
              "      <td>1</td>\n",
              "    </tr>\n",
              "  </tbody>\n",
              "</table>\n",
              "</div>"
            ],
            "text/plain": [
              "  orderNumber productCode quantityOrdered priceEach orderLineNumber\n",
              "0       10100    S18_1749              30    136.00               3\n",
              "1       10100    S18_2248              50     55.09               2\n",
              "2       10100    S18_4409              22     75.46               4\n",
              "3       10100    S24_3969              49     35.29               1\n",
              "4       10101    S18_2325              25    108.06               4\n",
              "5       10101    S18_2795              26    167.06               1\n",
              "6       10101    S24_1937              45     32.53               3\n",
              "7       10101    S24_2022              46     44.35               2\n",
              "8       10102    S18_1342              39     95.55               2\n",
              "9       10102    S18_1367              41     43.13               1"
            ]
          },
          "execution_count": 37,
          "metadata": {},
          "output_type": "execute_result"
        }
      ],
      "source": [
        "# replace None with the query to display the first 10 records in orderdetails\n",
        "query1 = (\"\"\"\n",
        "          SELECT*\n",
        "          FROM orderdetails\n",
        "          LIMIT 10;\n",
        "          \"\"\")\n",
        "df1 = pd.read_sql(query1, conn)\n",
        "df1"
      ]
    },
    {
      "cell_type": "code",
      "execution_count": 38,
      "metadata": {},
      "outputs": [
        {
          "data": {
            "text/plain": [
              "(10, 5)"
            ]
          },
          "execution_count": 38,
          "metadata": {},
          "output_type": "execute_result"
        }
      ],
      "source": [
        "# let us check the size \n",
        "df1.shape"
      ]
    },
    {
      "cell_type": "markdown",
      "metadata": {
        "id": "OaH30Vh_8fWe"
      },
      "source": [
        "---\n",
        "#### Expected Output\n",
        "<pre><code>the first 10 records in orderdetails\n",
        "</code></pre>\n",
        "<details>\n",
        "    <summary style=\"cursor: pointer; display: inline\">\n",
        "        <b><u>Click to Expand Complete Output</u></b>\n",
        "    </summary>\n",
        "    <img src=\"https://curriculum-content.s3.amazonaws.com/data-science/images/orderdetails.png\">\n",
        "</details>\n",
        "\n",
        "---"
      ]
    },
    {
      "cell_type": "markdown",
      "metadata": {
        "id": "QMfhmqFX8fWf"
      },
      "source": [
        "### `products` Table:\n",
        "\n",
        "> In the cell below, type the code to select all records from `products` and display the first `10`\n",
        "\n",
        "<details>\n",
        "    <summary style=\"cursor: pointer; display: inline\">\n",
        "        <b><u>CLICK to Reveal Code</u></b>\n",
        "    </summary>\n",
        "    <pre><code class=\"language-python\">query = \"\"\"\n",
        "SELECT *\n",
        "  FROM products LIMIT 10;\n",
        "\"\"\"\n",
        "pd.read_sql(query, conn)\n",
        "    </code></pre>\n",
        "</details>"
      ]
    },
    {
      "cell_type": "code",
      "execution_count": null,
      "metadata": {
        "id": "QbvlmN2l8fWf"
      },
      "outputs": [],
      "source": [
        "# replace None with the query to display the first 10 records in products\n",
        "query3 = None\n",
        "pd.read_sql(query, conn)"
      ]
    },
    {
      "cell_type": "markdown",
      "metadata": {
        "id": "qAiDllBm8fWg"
      },
      "source": [
        "---\n",
        "#### Expected Output\n",
        "<pre><code>the first 10 records in products\n",
        "</code></pre>\n",
        "<details>\n",
        "    <summary style=\"cursor: pointer; display: inline\">\n",
        "        <b><u>Click to Expand Complete Output</u></b>\n",
        "    </summary>\n",
        "    <img src=\"https://curriculum-content.s3.amazonaws.com/data-science/images/products.png\">\n",
        "</details>\n",
        "\n",
        "---"
      ]
    },
    {
      "cell_type": "markdown",
      "metadata": {
        "id": "uisckIMB8fWh"
      },
      "source": [
        "## The `USING` clause\n",
        "A more concise way to join the tables, if the column name is identical, is the `USING` clause. Rather then saying `ON tableA.column = tableB.column` we can simply say `USING(column)`. Again, this only works if the column is **identically named** for both tables.\n",
        "\n",
        "> In the cell below, type the query to select all records in `orderdetails` and `products` and join them on `productCode` with the `USING()` clause, and return the first 10 records:\n",
        "\n",
        "<details>\n",
        "    <summary style=\"cursor: pointer; display: inline\">\n",
        "        <b><u>CLICK to Reveal Code</u></b>\n",
        "    </summary>\n",
        "    <pre><code language=\"python\">query = \"\"\"\n",
        "SELECT *\n",
        "  FROM orderdetails\n",
        "       JOIN products\n",
        "       USING(productCode)\n",
        "       LIMIT 10;\n",
        "\"\"\"\n",
        "pd.read_sql(query, conn)\n",
        "    </code></pre>\n",
        "</details>\n"
      ]
    },
    {
      "cell_type": "code",
      "execution_count": null,
      "metadata": {
        "id": "kdJuVTNd8fWh"
      },
      "outputs": [],
      "source": [
        "# replace None with the query to join orderdetails and proucts on productCode with the using() clause\n",
        "query = None\n",
        "pd.read_sql(query, conn)"
      ]
    },
    {
      "cell_type": "markdown",
      "metadata": {
        "id": "3NDpHiuD8fWi"
      },
      "source": [
        "---\n",
        "#### Expected Output\n",
        "<pre><code>a DataFrame with 10 rows and 14 columns\n",
        "</code></pre>\n",
        "<details>\n",
        "    <summary style=\"cursor: pointer; display: inline\">\n",
        "        <b><u>Click to Expand Complete Output</u></b>\n",
        "    </summary>\n",
        "    <img src=\"https://curriculum-content.s3.amazonaws.com/data-science/images/join_1.png\">\n",
        "</details>\n",
        "\n",
        "---"
      ]
    },
    {
      "cell_type": "markdown",
      "metadata": {
        "id": "CuXhXi2d8fWi"
      },
      "source": [
        "## More Aliasing\n",
        "\n",
        "You can also assign tables an **alias** by entering an alternative shorthand name. This is slightly different than the previous lesson where we introduced aliases for column names, since now we are aliasing *tables*.\n",
        "\n",
        "When aliasing columns the goal is usually to improve readability by giving something a more specific or easier-to-read name. For example, `name AS employee_name`, `AVG(AVG) AS average_batting_average`, or `COUNT(*) AS num_products`.\n",
        "\n",
        "When aliasing tables the goal is usually to shorten the name, in order to shorten the overall query. So typically you'll see examples that alias a longer table name to a one-character or two-character shorthand. For example, `orderdetails AS od` or `products AS p`. (It is also possible to use aliases to clarify what exactly is in a table, like how aliases are used for columns, just less common.)\n",
        "\n",
        "The following query produces the same result as the previous ones, using aliases `od` and `p` for `orderdetails` and `products`, respectively:\n",
        "\n",
        "> In the following cell, type the following code to demonstrate the use of aliasing:\n",
        "\n",
        "<details>\n",
        "    <summary style=\"cursor: pointer; display: inline\">\n",
        "        <b><u>CLICK to Reveal Code</u></b>\n",
        "    </summary>\n",
        "    <pre><code language=\"python\">query = \"\"\"\n",
        "SELECT *\n",
        "  FROM orderdetails AS od\n",
        "       JOIN products AS p\n",
        "       ON od.productCode = p.productCode\n",
        "       LIMIT 10;\n",
        "\"\"\"\n",
        "    </code></pre>\n",
        "</details>"
      ]
    },
    {
      "cell_type": "code",
      "execution_count": null,
      "metadata": {
        "id": "YwRz8tlY8fWi"
      },
      "outputs": [],
      "source": [
        "# replace None with the query to demonstrate aliasing\n",
        "query = None\n",
        "pd.read_sql(query, conn)"
      ]
    },
    {
      "cell_type": "markdown",
      "metadata": {
        "id": "2xjlf0rJ8fWj"
      },
      "source": [
        "---\n",
        "#### Expected Output\n",
        "<pre><code>a DataFrame with 10 rows and 14 columns\n",
        "</code></pre>\n",
        "<details>\n",
        "    <summary style=\"cursor: pointer; display: inline\">\n",
        "        <b><u>Click to Expand Complete Output</u></b>\n",
        "    </summary>\n",
        "    <img src=\"https://curriculum-content.s3.amazonaws.com/data-science/images/join_1.png\">\n",
        "</details>\n",
        "\n",
        "---"
      ]
    },
    {
      "cell_type": "markdown",
      "metadata": {
        "id": "5hvRpck98fWj"
      },
      "source": [
        "Note that just like with column aliases, the `AS` keyword is optional in SQLite. So, instead of `FROM orderdetails AS od` you could write `FROM orderdetails od` with the same outcome.\n",
        "\n",
        "It is somewhat more common to see `AS` used with column aliases and skipped with table aliases, but again, you'll want to check the syntax rules of your particular type of SQL as well as style guidelines from your employer to know which syntax to use in a professional setting."
      ]
    },
    {
      "cell_type": "markdown",
      "metadata": {
        "id": "903EtUSm8fWk"
      },
      "source": [
        "## `LEFT JOIN`s\n",
        "\n",
        "By default a `JOIN` is an `INNER JOIN`, or the intersection between two tables. In other words, the `JOIN` between orders and products is only for `productCodes` that are in both the `orderdetails` and `products` tables. If a product had yet to be ordered (and wasn't in the `orderdetails` table) then it would also not be in the result of the `JOIN`.\n",
        "\n",
        "The `LEFT JOIN` keyword returns all records from the left table (table1), and the matched records from the right table (table2). The result is NULL from the right side if there is no match.\n",
        "\n",
        "There are many other types of joins, displayed below. Of these, SQLite does not support outer joins, but it is good to be aware of as more powerful versions of SQL such as PostgreSQL support these additional functions.\n",
        "\n",
        "<img src='https://curriculum-content.s3.amazonaws.com/data-science/images/venn.png' width=\"700\">"
      ]
    },
    {
      "cell_type": "markdown",
      "metadata": {
        "id": "7h6iGXlo8fWk"
      },
      "source": [
        "For example, the statement  \n",
        "  \n",
        "`SELECT * FROM products LEFT JOIN orderdetails `  \n",
        "\n",
        "would return all products, even those that hadn't been ordered.\n",
        "You can imagine that all products in inventory should have a description in the product table, but perhaps not every product is represented in the orderdetails table.\n",
        "\n",
        "> In the cell below, type the query to select all records from `products` and join them with all records in `orderdetails` on `productcode` using `LEFT JOIN`, then execute the query and store it in a dataframe named `df`:\n",
        "\n",
        "<details>\n",
        "    <summary style=\"cursor: pointer; display: inline\">\n",
        "        <b><u>CLICK to Reveal Code</u></b>\n",
        "    </summary>\n",
        "    <pre><code language=\"python\">query = \"\"\"\n",
        "SELECT *\n",
        "  FROM products\n",
        "       LEFT JOIN orderdetails\n",
        "       USING(productCode);\n",
        "\"\"\"\n",
        "\n",
        "df = pd.read_sql(query, conn)\n",
        "    </code></pre>\n",
        "</details>\n"
      ]
    },
    {
      "cell_type": "code",
      "execution_count": null,
      "metadata": {
        "id": "kanHpW-N8fWl"
      },
      "outputs": [],
      "source": [
        "# replace this comment with the code to create the specified query\n",
        "\n",
        "# replace this comment with the code to execute the query and store it in a dataframe named df\n",
        "\n",
        "print(\"Number of records returned:\", len(df))\n",
        "print(\"Number of records where order details are null:\", len(df[df.orderNumber.isnull()]))\n"
      ]
    },
    {
      "cell_type": "markdown",
      "metadata": {
        "id": "kLRjd4Qp8fWm"
      },
      "source": [
        "---\n",
        "#### Expected Output\n",
        "<pre><code>Number of records returned: 2997\n",
        "Number of records where order details are null: 1\n",
        "</code></pre>\n",
        "\n",
        "---"
      ]
    },
    {
      "cell_type": "markdown",
      "metadata": {
        "id": "9NoQrfO98fWn"
      },
      "source": [
        "Let's take a look at the one record that has null values in the order details:"
      ]
    },
    {
      "cell_type": "code",
      "execution_count": null,
      "metadata": {
        "id": "X3A5h6sI8fWn"
      },
      "outputs": [],
      "source": [
        "# run this cell with no changes to view the one record with null values\n",
        "df[df.orderNumber.isnull()]"
      ]
    },
    {
      "cell_type": "markdown",
      "metadata": {
        "id": "8w1150WB8fWp"
      },
      "source": [
        "---\n",
        "#### Expected Output\n",
        "<pre><code>a dataframe with one row and 14 columns\n",
        "</code></pre>\n",
        "<details>\n",
        "    <summary style=\"cursor: pointer; display: inline\">\n",
        "        <b><u>Click to Expand Complete Output</u></b>\n",
        "    </summary>\n",
        "    <img src=\"https://curriculum-content.s3.amazonaws.com/data-science/images/left_join.png\">\n",
        "</details>\n",
        "\n",
        "---"
      ]
    },
    {
      "cell_type": "markdown",
      "metadata": {
        "id": "_2tQYaWJ8fWp"
      },
      "source": [
        "As you can see, it's a rare occurrence, but there is one product that has yet to be ordered."
      ]
    },
    {
      "cell_type": "markdown",
      "metadata": {
        "id": "0o35L4MD8fWq"
      },
      "source": [
        "## Primary Versus Foreign Keys\n",
        "\n",
        "Another important consideration when performing joins is to think more about the key or column you are joining on. As you'll see in upcoming lessons, this can lead to interesting behavior if the join value is not unique in one or both of the tables. In all of the above examples, you joined two tables using the **primary key**. The primary key(s) of a table are those column(s) which uniquely identify a row. You'll also see this designated in our schema diagram with the asterisk (*).\n",
        "<img src='https://curriculum-content.s3.amazonaws.com/data-science/images/Database-Schema.png' width=550>"
      ]
    },
    {
      "cell_type": "markdown",
      "metadata": {
        "id": "H2wpD-yp8fWq"
      },
      "source": [
        "You can also join tables using **foreign keys** which are not the primary key for that particular table, but rather another table. For example, `employeeNumber` is the primary key for the employees table and corresponds to the `salesRepEmployeeNumber` of the customers table. In the customers table, `salesRepEmployeeNumber` is only a foreign key, and is unlikely to be a unique identifier, as it is likely that an employee serves multiple customers. As such, in the resulting view `employeeNumber` would no longer be a unique field.\n",
        "\n",
        "> In the cell below, type the query to join `customers` using the alias `c` with `employees` using the alias `e` on the foreign keys `salesTepEmoloyeeNumber` and `employeeNumber` and order the result by `employeeNumber`, then type the code to execute the query:\n",
        "\n",
        "<details>\n",
        "    <summary style=\"cursor: pointer; display: inline\">\n",
        "        <b><u>CLICK to Reveal Code</u></b>\n",
        "    </summary>\n",
        "    <pre><code language=\"python\">query = \"\"\"\n",
        "SELECT *\n",
        "  FROM customers AS c\n",
        "       JOIN employees AS e\n",
        "       ON c.salesRepEmployeeNumber = e.employeeNumber\n",
        "       ORDER By employeeNumber;\n",
        "\"\"\"\n",
        "pd.read_sql(query, conn)\n",
        "    </code></pre>\n",
        "</details>"
      ]
    },
    {
      "cell_type": "code",
      "execution_count": null,
      "metadata": {
        "id": "YDNhUnIg8fWr"
      },
      "outputs": [],
      "source": [
        "# replace None with the query to select the desired records\n",
        "\n",
        "# replace this comment with the code to execute the query"
      ]
    },
    {
      "cell_type": "markdown",
      "metadata": {
        "id": "wSyWCfh18fWs"
      },
      "source": [
        "---\n",
        "#### Expected Output\n",
        "<pre><code>a section of the df DataFrame with 100 rows and 21 columns\n",
        "</code></pre>\n",
        "<details>\n",
        "    <summary style=\"cursor: pointer; display: inline\">\n",
        "        <b><u>Click to Expand Complete Output</u></b>\n",
        "    </summary>\n",
        "    <img src=\"https://curriculum-content.s3.amazonaws.com/data-science/images/join_foreign_key.png\">\n",
        "</details>\n",
        "\n",
        "---"
      ]
    },
    {
      "cell_type": "markdown",
      "metadata": {
        "id": "ZHAQPdby8fWs"
      },
      "source": [
        "Notice that this also returned both columns: `salesRepEmployeeNumber` and `employeeNumber`. These columns contain identical values so you would probably actually only want to select one or the other."
      ]
    },
    {
      "cell_type": "markdown",
      "metadata": {
        "id": "g1Y6m3ik8fWs"
      },
      "source": [
        "## Summary\n",
        "\n",
        "In this lesson, you investigated joins. This included implementing the `ON` and `USING` clauses, aliasing table names, implementing `LEFT JOIN`, and using primary vs. foreign keys."
      ]
    }
  ],
  "metadata": {
    "colab": {
      "provenance": []
    },
    "kernelspec": {
      "display_name": "Python (learn-env)",
      "language": "python",
      "name": "learn-env"
    },
    "language_info": {
      "codemirror_mode": {
        "name": "ipython",
        "version": 3
      },
      "file_extension": ".py",
      "mimetype": "text/x-python",
      "name": "python",
      "nbconvert_exporter": "python",
      "pygments_lexer": "ipython3",
      "version": "3.8.5"
    },
    "toc": {
      "base_numbering": 1,
      "nav_menu": {},
      "number_sections": true,
      "sideBar": true,
      "skip_h1_title": false,
      "title_cell": "Table of Contents",
      "title_sidebar": "Contents",
      "toc_cell": false,
      "toc_position": {},
      "toc_section_display": true,
      "toc_window_display": false
    }
  },
  "nbformat": 4,
  "nbformat_minor": 0
}
